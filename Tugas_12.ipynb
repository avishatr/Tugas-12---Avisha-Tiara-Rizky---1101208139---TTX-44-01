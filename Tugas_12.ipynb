{
  "nbformat": 4,
  "nbformat_minor": 0,
  "metadata": {
    "colab": {
      "name": "Tugas 12.ipynb",
      "provenance": [],
      "authorship_tag": "ABX9TyM5Eqq88TdyDxkj7dxSqWOu",
      "include_colab_link": true
    },
    "kernelspec": {
      "name": "python3",
      "display_name": "Python 3"
    }
  },
  "cells": [
    {
      "cell_type": "markdown",
      "metadata": {
        "id": "view-in-github",
        "colab_type": "text"
      },
      "source": [
        "<a href=\"https://colab.research.google.com/github/avishatr/Tugas-12---Avisha-Tiara-Rizky---1101208139---TTX-44-01/blob/main/Tugas_12.ipynb\" target=\"_parent\"><img src=\"https://colab.research.google.com/assets/colab-badge.svg\" alt=\"Open In Colab\"/></a>"
      ]
    },
    {
      "cell_type": "markdown",
      "metadata": {
        "id": "RCqjaD67kkTc"
      },
      "source": [
        "Tugas 12 - Avisha Tiara Rizky - 1101208139 - TTX-44-01\r\n",
        "\r\n",
        "---\r\n",
        "\r\n"
      ]
    },
    {
      "cell_type": "code",
      "metadata": {
        "id": "3FYbyPtSlHIR"
      },
      "source": [
        "import numpy as np"
      ],
      "execution_count": 1,
      "outputs": []
    },
    {
      "cell_type": "code",
      "metadata": {
        "id": "__q-sWjrlIzv"
      },
      "source": [
        "def pathloss(fc, ht, hr, d, area ) :\r\n",
        "\r\n",
        "  #nilai c1 & c2\r\n",
        "  if fc >= 400000 and fc <= 1500000:\r\n",
        "    c1 = 69.55\r\n",
        "    c2 = 26.16\r\n",
        "  elif fc > 1500000 and fc <= 2000000:\r\n",
        "    c1 = 46.3\r\n",
        "    c2 = 33.9\r\n",
        "  \r\n",
        "  #nilai cm\r\n",
        "  if area == \"urban\":\r\n",
        "    cm = 0\r\n",
        "  elif area == \"suburban\":\r\n",
        "    cm = -2*(np.log10(fc/28))**2 - 5.4\r\n",
        "  elif area == \"open\":\r\n",
        "    cm = -4.78*(np.log10(fc))**2 + (18.33*np.log10(fc)) - 40.94\r\n",
        "\r\n",
        " \r\n",
        "  ahr = ((1.1*np.log10(fc)) - 0.7)*(hr) - ((1.56*np.log10(fc)) - 0.8)\r\n",
        "  Lp = c1 + c2*np.log10(fc) - 13.83*np.log10(ht) - (ahr) + (44.9 - 6.55*np.log10(ht))*np.log10(d) + cm\r\n",
        "  return Lp"
      ],
      "execution_count": 2,
      "outputs": []
    },
    {
      "cell_type": "code",
      "metadata": {
        "colab": {
          "base_uri": "https://localhost:8080/"
        },
        "id": "1wKbDy-ulMoV",
        "outputId": "563fcbfa-adb4-4e95-dd8d-ae3838bc7e08"
      },
      "source": [
        "PL = pathloss(1000000, 180, 15, 7, \"urban\")\r\n",
        "print(\"Pathloss: \", PL, \"dB\")"
      ],
      "execution_count": 3,
      "outputs": [
        {
          "output_type": "stream",
          "text": [
            "Pathloss:  140.84066550292786 dB\n"
          ],
          "name": "stdout"
        }
      ]
    }
  ]
}